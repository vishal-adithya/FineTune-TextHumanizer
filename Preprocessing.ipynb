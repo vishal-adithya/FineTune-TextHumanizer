{
 "cells": [
  {
   "cell_type": "markdown",
   "metadata": {},
   "source": [
    "# Text Humanizer - Data Preprocessing Notebook\n"
   ]
  },
  {
   "cell_type": "markdown",
   "metadata": {},
   "source": [
    "### Dependencies"
   ]
  },
  {
   "cell_type": "code",
   "execution_count": 1,
   "metadata": {},
   "outputs": [],
   "source": [
    "import pandas as pd\n",
    "import numpy as np\n",
    "import json\n",
    "import os\n",
    "import random"
   ]
  },
  {
   "cell_type": "markdown",
   "metadata": {},
   "source": [
    "### Preparing the Data"
   ]
  },
  {
   "cell_type": "code",
   "execution_count": 2,
   "metadata": {},
   "outputs": [
    {
     "data": {
      "text/html": [
       "<div>\n",
       "<style scoped>\n",
       "    .dataframe tbody tr th:only-of-type {\n",
       "        vertical-align: middle;\n",
       "    }\n",
       "\n",
       "    .dataframe tbody tr th {\n",
       "        vertical-align: top;\n",
       "    }\n",
       "\n",
       "    .dataframe thead th {\n",
       "        text-align: right;\n",
       "    }\n",
       "</style>\n",
       "<table border=\"1\" class=\"dataframe\">\n",
       "  <thead>\n",
       "    <tr style=\"text-align: right;\">\n",
       "      <th></th>\n",
       "      <th>instruction</th>\n",
       "      <th>input</th>\n",
       "      <th>output</th>\n",
       "    </tr>\n",
       "  </thead>\n",
       "  <tbody>\n",
       "    <tr>\n",
       "      <th>0</th>\n",
       "      <td>Convert the following AI-generated input text ...</td>\n",
       "      <td>The clock is singing to the dog.</td>\n",
       "      <td>The clock is serenading the dog.</td>\n",
       "    </tr>\n",
       "    <tr>\n",
       "      <th>1</th>\n",
       "      <td>Convert the following AI-generated input text ...</td>\n",
       "      <td>My friend is cooking loudly.</td>\n",
       "      <td>My friend is busy cooking up something tasty.</td>\n",
       "    </tr>\n",
       "    <tr>\n",
       "      <th>2</th>\n",
       "      <td>Convert the following AI-generated input text ...</td>\n",
       "      <td>The phone is reading the weather.</td>\n",
       "      <td>The phone is diving into a good book.</td>\n",
       "    </tr>\n",
       "    <tr>\n",
       "      <th>3</th>\n",
       "      <td>Convert the following AI-generated input text ...</td>\n",
       "      <td>The movie is working the game.</td>\n",
       "      <td>The movie is hard at work right now.</td>\n",
       "    </tr>\n",
       "    <tr>\n",
       "      <th>4</th>\n",
       "      <td>Convert the following AI-generated input text ...</td>\n",
       "      <td>The dog is cooking a book.</td>\n",
       "      <td>The dog is busy cooking up something tasty.</td>\n",
       "    </tr>\n",
       "  </tbody>\n",
       "</table>\n",
       "</div>"
      ],
      "text/plain": [
       "                                         instruction  \\\n",
       "0  Convert the following AI-generated input text ...   \n",
       "1  Convert the following AI-generated input text ...   \n",
       "2  Convert the following AI-generated input text ...   \n",
       "3  Convert the following AI-generated input text ...   \n",
       "4  Convert the following AI-generated input text ...   \n",
       "\n",
       "                               input  \\\n",
       "0   The clock is singing to the dog.   \n",
       "1       My friend is cooking loudly.   \n",
       "2  The phone is reading the weather.   \n",
       "3     The movie is working the game.   \n",
       "4         The dog is cooking a book.   \n",
       "\n",
       "                                          output  \n",
       "0               The clock is serenading the dog.  \n",
       "1  My friend is busy cooking up something tasty.  \n",
       "2          The phone is diving into a good book.  \n",
       "3           The movie is hard at work right now.  \n",
       "4    The dog is busy cooking up something tasty.  "
      ]
     },
     "execution_count": 2,
     "metadata": {},
     "output_type": "execute_result"
    }
   ],
   "source": [
    "df = pd.read_csv(\"texthumanizer_finetune_data.csv\")\n",
    "df.head()"
   ]
  },
  {
   "cell_type": "code",
   "execution_count": 7,
   "metadata": {},
   "outputs": [
    {
     "data": {
      "text/plain": [
       "[{'text': 'Convert the following AI-generated input text into a version that sounds more natural, expressive, and human-like. Preserve the original meaning, but make the tone more conversational, engaging, and fluid.,Input: She is watching the game.,Output: She is catching up on something interesting.'},\n",
       " {'text': 'Convert the following AI-generated input text into a version that sounds more natural, expressive, and human-like. Preserve the original meaning, but make the tone more conversational, engaging, and fluid.,Input: She is watching the game.,Output: She is catching up on something interesting.'},\n",
       " {'text': 'Convert the following AI-generated input text into a version that sounds more natural, expressive, and human-like. Preserve the original meaning, but make the tone more conversational, engaging, and fluid.,Input: He likes football.,Output: He is quite fond of football.'},\n",
       " {'text': 'Convert the following AI-generated input text into a version that sounds more natural, expressive, and human-like. Preserve the original meaning, but make the tone more conversational, engaging, and fluid.,Input: She is cooking the computer.,Output: She’s trying her best with the computer.'},\n",
       " {'text': 'Convert the following AI-generated input text into a version that sounds more natural, expressive, and human-like. Preserve the original meaning, but make the tone more conversational, engaging, and fluid.,Input: He is walking the sky.,Output: He’s off on a walk through the clouds.'}]"
      ]
     },
     "execution_count": 7,
     "metadata": {},
     "output_type": "execute_result"
    }
   ],
   "source": [
    "records = []\n",
    "for _,row in df.iterrows():\n",
    "    input_ = row[\"input\"]\n",
    "    output_ = row[\"output\"]\n",
    "    instruction_ = row[\"instruction\"]\n",
    "    records.append({\"text\":f\"{instruction_},Input: {input_},Output: {output_}\"})\n",
    "random.shuffle(records)\n",
    "records[:5]"
   ]
  },
  {
   "cell_type": "code",
   "execution_count": 8,
   "metadata": {},
   "outputs": [
    {
     "name": "stdout",
     "output_type": "stream",
     "text": [
      "6666 1666\n"
     ]
    }
   ],
   "source": [
    "record = len(records)\n",
    "train_split = int(record * 2/3)\n",
    "test_split = int(record * 1/6)\n",
    "print(train_split,test_split)"
   ]
  },
  {
   "cell_type": "code",
   "execution_count": 9,
   "metadata": {},
   "outputs": [
    {
     "name": "stdout",
     "output_type": "stream",
     "text": [
      "Train Split : 6666\n",
      "Test Split : 1666\n",
      "Valid Split : 1668\n"
     ]
    }
   ],
   "source": [
    "train = records[:train_split]\n",
    "test = records[train_split:train_split+test_split]\n",
    "valid = records[train_split+test_split:]\n",
    "\n",
    "print(f\"Train Split : {len(train)}\")\n",
    "print(f\"Test Split : {len(test)}\")\n",
    "print(f\"Valid Split : {len(valid)}\")"
   ]
  },
  {
   "cell_type": "code",
   "execution_count": 10,
   "metadata": {},
   "outputs": [],
   "source": [
    "import json\n",
    "with open('train.jsonl', 'w') as train_file:\n",
    "    for entry in train:\n",
    "        train_file.write(json.dumps(entry) + '\\n')\n",
    "\n",
    "with open('test.jsonl', 'w') as test_file:\n",
    "    for entry in test:\n",
    "        test_file.write(json.dumps(entry) + '\\n')\n",
    "\n",
    "with open('valid.jsonl', 'w') as valid_file:\n",
    "    for entry in valid:\n",
    "        valid_file.write(json.dumps(entry) + '\\n')"
   ]
  }
 ],
 "metadata": {
  "kernelspec": {
   "display_name": "mlx-llm",
   "language": "python",
   "name": "python3"
  },
  "language_info": {
   "codemirror_mode": {
    "name": "ipython",
    "version": 3
   },
   "file_extension": ".py",
   "mimetype": "text/x-python",
   "name": "python",
   "nbconvert_exporter": "python",
   "pygments_lexer": "ipython3",
   "version": "3.9.6"
  }
 },
 "nbformat": 4,
 "nbformat_minor": 2
}
