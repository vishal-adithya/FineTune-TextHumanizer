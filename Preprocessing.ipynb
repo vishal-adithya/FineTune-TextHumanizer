{
 "cells": [
  {
   "cell_type": "markdown",
   "metadata": {},
   "source": [
    "# Text Humanizer - Data Preprocessing Notebook\n"
   ]
  },
  {
   "cell_type": "markdown",
   "metadata": {},
   "source": [
    "### Dependencies"
   ]
  },
  {
   "cell_type": "code",
   "execution_count": 6,
   "metadata": {},
   "outputs": [],
   "source": [
    "import pandas as pd\n",
    "import numpy as np\n",
    "import json\n",
    "import os\n",
    "import random"
   ]
  },
  {
   "cell_type": "markdown",
   "metadata": {},
   "source": [
    "### Preparing the Data"
   ]
  },
  {
   "cell_type": "code",
   "execution_count": 3,
   "metadata": {},
   "outputs": [
    {
     "data": {
      "text/html": [
       "<div>\n",
       "<style scoped>\n",
       "    .dataframe tbody tr th:only-of-type {\n",
       "        vertical-align: middle;\n",
       "    }\n",
       "\n",
       "    .dataframe tbody tr th {\n",
       "        vertical-align: top;\n",
       "    }\n",
       "\n",
       "    .dataframe thead th {\n",
       "        text-align: right;\n",
       "    }\n",
       "</style>\n",
       "<table border=\"1\" class=\"dataframe\">\n",
       "  <thead>\n",
       "    <tr style=\"text-align: right;\">\n",
       "      <th></th>\n",
       "      <th>input</th>\n",
       "      <th>output</th>\n",
       "    </tr>\n",
       "  </thead>\n",
       "  <tbody>\n",
       "    <tr>\n",
       "      <th>0</th>\n",
       "      <td>My friend is watching a book.</td>\n",
       "      <td>My friend is catching up on something interest...</td>\n",
       "    </tr>\n",
       "    <tr>\n",
       "      <th>1</th>\n",
       "      <td>The car loves quietly.</td>\n",
       "      <td>The car is quite fond of quietly.</td>\n",
       "    </tr>\n",
       "    <tr>\n",
       "      <th>2</th>\n",
       "      <td>The weather is listening to loudly.</td>\n",
       "      <td>The weather has been all about loudly recently.</td>\n",
       "    </tr>\n",
       "    <tr>\n",
       "      <th>3</th>\n",
       "      <td>My friend likes football.</td>\n",
       "      <td>My friend has been spending some time with foo...</td>\n",
       "    </tr>\n",
       "    <tr>\n",
       "      <th>4</th>\n",
       "      <td>The phone is waiting.</td>\n",
       "      <td>The phone is just waiting around.</td>\n",
       "    </tr>\n",
       "  </tbody>\n",
       "</table>\n",
       "</div>"
      ],
      "text/plain": [
       "                                 input  \\\n",
       "0        My friend is watching a book.   \n",
       "1               The car loves quietly.   \n",
       "2  The weather is listening to loudly.   \n",
       "3            My friend likes football.   \n",
       "4                The phone is waiting.   \n",
       "\n",
       "                                              output  \n",
       "0  My friend is catching up on something interest...  \n",
       "1                  The car is quite fond of quietly.  \n",
       "2    The weather has been all about loudly recently.  \n",
       "3  My friend has been spending some time with foo...  \n",
       "4                  The phone is just waiting around.  "
      ]
     },
     "execution_count": 3,
     "metadata": {},
     "output_type": "execute_result"
    }
   ],
   "source": [
    "df = pd.read_json(os.path.join(\"Data\",\"ai_to_human_rewrite_10000.json\"))\n",
    "df.head()"
   ]
  },
  {
   "cell_type": "code",
   "execution_count": 16,
   "metadata": {},
   "outputs": [
    {
     "data": {
      "text/plain": [
       "[{'instruction': 'Convert the following AI-generated input text into a version that sounds more natural, expressive, and human-like. Preserve the original meaning, but make the tone more conversational, engaging, and fluid.',\n",
       "  'input': 'The dog is cooking a book.',\n",
       "  'output': 'The dog is busy cooking up something tasty.'},\n",
       " {'instruction': 'Convert the following AI-generated input text into a version that sounds more natural, expressive, and human-like. Preserve the original meaning, but make the tone more conversational, engaging, and fluid.',\n",
       "  'input': 'He is playing the phone.',\n",
       "  'output': 'He is having fun playing.'},\n",
       " {'instruction': 'Convert the following AI-generated input text into a version that sounds more natural, expressive, and human-like. Preserve the original meaning, but make the tone more conversational, engaging, and fluid.',\n",
       "  'input': 'The phone is reading a book.',\n",
       "  'output': 'The phone is diving into a good book.'},\n",
       " {'instruction': 'Convert the following AI-generated input text into a version that sounds more natural, expressive, and human-like. Preserve the original meaning, but make the tone more conversational, engaging, and fluid.',\n",
       "  'input': 'She is watching the game.',\n",
       "  'output': 'She is catching up on something interesting.'},\n",
       " {'instruction': 'Convert the following AI-generated input text into a version that sounds more natural, expressive, and human-like. Preserve the original meaning, but make the tone more conversational, engaging, and fluid.',\n",
       "  'input': 'The dog is reading the news.',\n",
       "  'output': 'The dog is diving into a good book.'}]"
      ]
     },
     "execution_count": 16,
     "metadata": {},
     "output_type": "execute_result"
    }
   ],
   "source": [
    "records = []\n",
    "for _,row in df.iterrows():\n",
    "    input_ = row[\"input\"]\n",
    "    output_ = row[\"output\"]\n",
    "    instruction_ = \"Convert the following AI-generated input text into a version that sounds more natural, expressive, and human-like. Preserve the original meaning, but make the tone more conversational, engaging, and fluid.\"\n",
    "    records.append({\"instruction\":instruction_,\n",
    "                    \"input\":input_,\n",
    "                    \"output\":output_})\n",
    "random.shuffle(records)\n",
    "records[:5]"
   ]
  },
  {
   "cell_type": "code",
   "execution_count": 17,
   "metadata": {},
   "outputs": [
    {
     "data": {
      "text/plain": [
       "10000"
      ]
     },
     "execution_count": 17,
     "metadata": {},
     "output_type": "execute_result"
    }
   ],
   "source": [
    "len(records)"
   ]
  },
  {
   "cell_type": "code",
   "execution_count": 18,
   "metadata": {},
   "outputs": [
    {
     "name": "stdout",
     "output_type": "stream",
     "text": [
      "Train Split : 7000\n",
      "Test Split : 2000\n",
      "Valid Split : 1000\n"
     ]
    }
   ],
   "source": [
    "train = records[:7000]\n",
    "test = records[7000:9000]\n",
    "valid = records[9000:10000]\n",
    "\n",
    "print(f\"Train Split : {len(train)}\")\n",
    "print(f\"Test Split : {len(test)}\")\n",
    "print(f\"Valid Split : {len(valid)}\")"
   ]
  },
  {
   "cell_type": "code",
   "execution_count": null,
   "metadata": {},
   "outputs": [],
   "source": [
    "with open(os.path.join(\"data\",\"train.jsonl\"),\"w\") as train_file:\n",
    "    for entry in train:\n",
    "        train_file.write(json.dumps(entry)+ \"\\n\")   \n",
    "\n",
    "with open(os.path.join(\"data\",\"test.jsonl\"),\"w\") as test_file:\n",
    "    for entry in test:\n",
    "        test_file.write(json.dumps(entry)+ \"\\n\")\n",
    "\n",
    "with open(os.path.join(\"data\",\"valid.jsonl\"),\"w\") as valid_file:\n",
    "    for entry in valid:\n",
    "        valid_file.write(json.dumps(entry)+ \"\\n\")\n"
   ]
  },
  {
   "cell_type": "code",
   "execution_count": null,
   "metadata": {},
   "outputs": [],
   "source": []
  }
 ],
 "metadata": {
  "kernelspec": {
   "display_name": "mlx-llm",
   "language": "python",
   "name": "python3"
  },
  "language_info": {
   "codemirror_mode": {
    "name": "ipython",
    "version": 3
   },
   "file_extension": ".py",
   "mimetype": "text/x-python",
   "name": "python",
   "nbconvert_exporter": "python",
   "pygments_lexer": "ipython3",
   "version": "3.9.6"
  }
 },
 "nbformat": 4,
 "nbformat_minor": 2
}
