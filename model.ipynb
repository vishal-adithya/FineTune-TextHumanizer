{
 "cells": [
  {
   "cell_type": "markdown",
   "metadata": {},
   "source": [
    "# Text Humanizer - Finetuning base model Notebook"
   ]
  },
  {
   "cell_type": "markdown",
   "metadata": {},
   "source": [
    "### Dependencies"
   ]
  },
  {
   "cell_type": "code",
   "execution_count": 6,
   "metadata": {},
   "outputs": [],
   "source": [
    "import mlx_lm.lora\n",
    "import os"
   ]
  },
  {
   "cell_type": "code",
   "execution_count": 2,
   "metadata": {},
   "outputs": [
    {
     "name": "stdout",
     "output_type": "stream",
     "text": [
      "zsh:1: unknown file attribute: i\n"
     ]
    }
   ],
   "source": [
    "!python -m warnings.filterwarnings(\"ignore\")"
   ]
  },
  {
   "cell_type": "markdown",
   "metadata": {},
   "source": [
    "### Fine Tuning"
   ]
  },
  {
   "cell_type": "code",
   "execution_count": 3,
   "metadata": {},
   "outputs": [
    {
     "name": "stdout",
     "output_type": "stream",
     "text": [
      "/Users/vishaladithya/Documents/GitHub/FineTune-TextHumanizer/mlx-llm/lib/python3.9/site-packages/urllib3/__init__.py:35: NotOpenSSLWarning: urllib3 v2 only supports OpenSSL 1.1.1+, currently the 'ssl' module is compiled with 'LibreSSL 2.8.3'. See: https://github.com/urllib3/urllib3/issues/3020\n",
      "  warnings.warn(\n",
      "Loading pretrained model\n",
      "Fetching 7 files: 100%|████████████████████████| 7/7 [00:00<00:00, 94710.09it/s]\n",
      "Loading datasets\n",
      "Training\n",
      "Trainable parameters: 0.021% (1.704M/8019.808M)\n",
      "Starting training..., iters: 200\n",
      "Iter 1: Val loss 3.230, Val took 29.799s\n",
      "Iter 10: Train loss 2.889, Learning Rate 1.000e-05, It/sec 0.480, Tokens/sec 116.031, Trained Tokens 2415, Peak mem 5.672 GB\n",
      "Iter 20: Train loss 1.579, Learning Rate 1.000e-05, It/sec 0.492, Tokens/sec 117.516, Trained Tokens 4802, Peak mem 5.672 GB\n",
      "Iter 30: Train loss 0.846, Learning Rate 1.000e-05, It/sec 0.490, Tokens/sec 118.416, Trained Tokens 7217, Peak mem 5.672 GB\n",
      "Iter 40: Train loss 0.566, Learning Rate 1.000e-05, It/sec 0.488, Tokens/sec 118.570, Trained Tokens 9648, Peak mem 5.672 GB\n",
      "Iter 50: Train loss 0.461, Learning Rate 1.000e-05, It/sec 0.491, Tokens/sec 119.114, Trained Tokens 12073, Peak mem 5.674 GB\n",
      "Iter 60: Train loss 0.367, Learning Rate 1.000e-05, It/sec 0.488, Tokens/sec 118.353, Trained Tokens 14499, Peak mem 5.674 GB\n",
      "Iter 70: Train loss 0.315, Learning Rate 1.000e-05, It/sec 0.486, Tokens/sec 117.424, Trained Tokens 16913, Peak mem 5.674 GB\n",
      "Iter 80: Train loss 0.285, Learning Rate 1.000e-05, It/sec 0.488, Tokens/sec 117.967, Trained Tokens 19330, Peak mem 5.674 GB\n",
      "Iter 90: Train loss 0.241, Learning Rate 1.000e-05, It/sec 0.488, Tokens/sec 117.793, Trained Tokens 21746, Peak mem 5.674 GB\n",
      "Iter 100: Train loss 0.219, Learning Rate 1.000e-05, It/sec 0.487, Tokens/sec 116.168, Trained Tokens 24132, Peak mem 5.674 GB\n",
      "Iter 100: Saved adapter weights to adapters/adapters.safetensors and adapters/0000100_adapters.safetensors.\n",
      "Iter 110: Train loss 0.195, Learning Rate 1.000e-05, It/sec 0.486, Tokens/sec 116.216, Trained Tokens 26523, Peak mem 5.678 GB\n",
      "Iter 120: Train loss 0.191, Learning Rate 1.000e-05, It/sec 0.491, Tokens/sec 117.066, Trained Tokens 28905, Peak mem 5.678 GB\n",
      "Iter 130: Train loss 0.190, Learning Rate 1.000e-05, It/sec 0.492, Tokens/sec 118.586, Trained Tokens 31314, Peak mem 5.678 GB\n",
      "Iter 140: Train loss 0.189, Learning Rate 1.000e-05, It/sec 0.492, Tokens/sec 118.618, Trained Tokens 33723, Peak mem 5.678 GB\n",
      "Iter 150: Train loss 0.183, Learning Rate 1.000e-05, It/sec 0.492, Tokens/sec 118.083, Trained Tokens 36124, Peak mem 5.680 GB\n",
      "Iter 160: Train loss 0.179, Learning Rate 1.000e-05, It/sec 0.492, Tokens/sec 118.360, Trained Tokens 38528, Peak mem 5.680 GB\n",
      "Iter 170: Train loss 0.176, Learning Rate 1.000e-05, It/sec 0.492, Tokens/sec 119.065, Trained Tokens 40946, Peak mem 5.680 GB\n",
      "Iter 180: Train loss 0.177, Learning Rate 1.000e-05, It/sec 0.492, Tokens/sec 118.136, Trained Tokens 43345, Peak mem 5.680 GB\n",
      "Iter 190: Train loss 0.176, Learning Rate 1.000e-05, It/sec 0.492, Tokens/sec 118.825, Trained Tokens 45758, Peak mem 5.680 GB\n",
      "Iter 200: Val loss 0.175, Val took 30.398s\n",
      "Iter 200: Train loss 0.171, Learning Rate 1.000e-05, It/sec 0.486, Tokens/sec 117.298, Trained Tokens 48171, Peak mem 5.680 GB\n",
      "Iter 200: Saved adapter weights to adapters/adapters.safetensors and adapters/0000200_adapters.safetensors.\n",
      "Saved final weights to adapters/adapters.safetensors.\n"
     ]
    }
   ],
   "source": [
    "!python3 -m mlx_lm lora \\\n",
    "    --model mlx-community/Ministral-8B-Instruct-2410-4bit \\\n",
    "    --data finegrained_data\\\n",
    "    --fine-tune-type lora\\\n",
    "    --batch-size 4\\\n",
    "    --num-layers 16\\\n",
    "    --iters 200 \\\n",
    "    --adapter-path adapters\\\n",
    "    --train"
   ]
  },
  {
   "cell_type": "markdown",
   "metadata": {},
   "source": [
    "### Evaluating the finetuned model with text prompt"
   ]
  },
  {
   "cell_type": "code",
   "execution_count": null,
   "metadata": {},
   "outputs": [
    {
     "name": "stdout",
     "output_type": "stream",
     "text": [
      "/Users/vishaladithya/Documents/GitHub/FineTune-TextHumanizer/mlx-llm/lib/python3.9/site-packages/urllib3/__init__.py:35: NotOpenSSLWarning: urllib3 v2 only supports OpenSSL 1.1.1+, currently the 'ssl' module is compiled with 'LibreSSL 2.8.3'. See: https://github.com/urllib3/urllib3/issues/3020\n",
      "  warnings.warn(\n",
      "Fetching 7 files: 100%|████████████████████████| 7/7 [00:00<00:00, 29272.31it/s]\n",
      "==========\n",
      "The clock is serenading the dog.\n",
      "==========\n",
      "Prompt: 56 tokens, 96.100 tokens-per-sec\n",
      "Generation: 9 tokens, 39.015 tokens-per-sec\n",
      "Peak memory: 4.740 GB\n"
     ]
    }
   ],
   "source": [
    "!python3 -m mlx_lm generate \\\n",
    "    --model mlx-community/Ministral-8B-Instruct-2410-4bit \\\n",
    "    --max-tokens 500 \\\n",
    "    --adapter-path adapters \\\n",
    "    --prompt \"{text:Convert the following AI-generated input text into a version that sounds more natural, expressive, and human-like. Preserve the original meaning, but make the tone more conversational, engaging, and fluid.,Input: The clock is singing to the dog.\""
   ]
  },
  {
   "cell_type": "markdown",
   "metadata": {},
   "source": [
    "### Fusing the adapters"
   ]
  },
  {
   "cell_type": "code",
   "execution_count": 16,
   "metadata": {},
   "outputs": [
    {
     "name": "stdout",
     "output_type": "stream",
     "text": [
      "/Users/vishaladithya/Documents/GitHub/FineTune-TextHumanizer/mlx-llm/lib/python3.9/site-packages/urllib3/__init__.py:35: NotOpenSSLWarning: urllib3 v2 only supports OpenSSL 1.1.1+, currently the 'ssl' module is compiled with 'LibreSSL 2.8.3'. See: https://github.com/urllib3/urllib3/issues/3020\n",
      "  warnings.warn(\n",
      "Loading pretrained model\n",
      "Fetching 7 files: 100%|███████████████████████| 7/7 [00:00<00:00, 127100.12it/s]\n"
     ]
    }
   ],
   "source": [
    "!python3 -m mlx_lm fuse \\\n",
    "    --model mlx-community/Ministral-8B-Instruct-2410-4bit \\\n",
    "    --adapter-path adapters \\\n",
    "    --save-path model/fine_tuned_Ministral-8B"
   ]
  }
 ],
 "metadata": {
  "kernelspec": {
   "display_name": "mlx-llm",
   "language": "python",
   "name": "python3"
  },
  "language_info": {
   "codemirror_mode": {
    "name": "ipython",
    "version": 3
   },
   "file_extension": ".py",
   "mimetype": "text/x-python",
   "name": "python",
   "nbconvert_exporter": "python",
   "pygments_lexer": "ipython3",
   "version": "3.9.6"
  }
 },
 "nbformat": 4,
 "nbformat_minor": 2
}
